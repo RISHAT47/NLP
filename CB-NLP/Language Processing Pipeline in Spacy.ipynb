{
 "cells": [
  {
   "cell_type": "code",
   "execution_count": 1,
   "id": "f5cd59ff",
   "metadata": {},
   "outputs": [],
   "source": [
    "import spacy"
   ]
  },
  {
   "cell_type": "code",
   "execution_count": 18,
   "id": "f396115d",
   "metadata": {},
   "outputs": [],
   "source": [
    "nlp = spacy.blank(\"en\")\n",
    "\n",
    "doc = nlp(\"As the stock market fluctuates, the value of the dollar rises and falls, impacting global trade and investment.\")"
   ]
  },
  {
   "cell_type": "code",
   "execution_count": 19,
   "id": "97c523d9",
   "metadata": {},
   "outputs": [
    {
     "name": "stdout",
     "output_type": "stream",
     "text": [
      "As\n",
      "the\n",
      "stock\n",
      "market\n",
      "fluctuates\n",
      ",\n",
      "the\n",
      "value\n",
      "of\n",
      "the\n",
      "dollar\n",
      "rises\n",
      "and\n",
      "falls\n",
      ",\n",
      "impacting\n",
      "global\n",
      "trade\n",
      "and\n",
      "investment\n",
      ".\n"
     ]
    }
   ],
   "source": [
    "for token in doc:\n",
    "    print(token)"
   ]
  },
  {
   "cell_type": "code",
   "execution_count": 20,
   "id": "be47b5fc",
   "metadata": {},
   "outputs": [
    {
     "data": {
      "text/plain": [
       "[]"
      ]
     },
     "execution_count": 20,
     "metadata": {},
     "output_type": "execute_result"
    }
   ],
   "source": [
    "nlp.pipe_names"
   ]
  },
  {
   "cell_type": "code",
   "execution_count": 21,
   "id": "dc545242",
   "metadata": {},
   "outputs": [],
   "source": [
    "for ent in doc.ents:\n",
    "    print(ent, \" | \", ent.label_, \" | \", spacy.explain(ent.label_))"
   ]
  },
  {
   "cell_type": "code",
   "execution_count": 22,
   "id": "f28a3d7d",
   "metadata": {},
   "outputs": [],
   "source": [
    "nlp = spacy.load(\"en_core_web_sm\")"
   ]
  },
  {
   "cell_type": "code",
   "execution_count": 23,
   "id": "b697d21d",
   "metadata": {},
   "outputs": [
    {
     "data": {
      "text/plain": [
       "['tok2vec', 'tagger', 'parser', 'attribute_ruler', 'lemmatizer', 'ner']"
      ]
     },
     "execution_count": 23,
     "metadata": {},
     "output_type": "execute_result"
    }
   ],
   "source": [
    "nlp.pipe_names"
   ]
  },
  {
   "cell_type": "code",
   "execution_count": 24,
   "id": "0b61b5fb",
   "metadata": {},
   "outputs": [
    {
     "name": "stdout",
     "output_type": "stream",
     "text": [
      "As  |  ADP  |  as\n",
      "the  |  DET  |  the\n",
      "stock  |  NOUN  |  stock\n",
      "market  |  NOUN  |  market\n",
      "fluctuates  |  NOUN  |  fluctuate\n",
      ",  |  PUNCT  |  ,\n",
      "the  |  DET  |  the\n",
      "value  |  NOUN  |  value\n",
      "of  |  ADP  |  of\n",
      "the  |  DET  |  the\n",
      "dollar  |  NOUN  |  dollar\n",
      "rises  |  VERB  |  rise\n",
      "and  |  CCONJ  |  and\n",
      "falls  |  VERB  |  fall\n",
      ",  |  PUNCT  |  ,\n",
      "impacting  |  VERB  |  impact\n",
      "global  |  ADJ  |  global\n",
      "trade  |  NOUN  |  trade\n",
      "and  |  CCONJ  |  and\n",
      "investment  |  NOUN  |  investment\n",
      ".  |  PUNCT  |  .\n"
     ]
    }
   ],
   "source": [
    "doc = nlp(\"As the stock market fluctuates, the value of the dollar rises and falls, impacting global trade and investment.\")\n",
    "\n",
    "for token in doc:\n",
    "    print(token, \" | \", token.pos_, \" | \", token.lemma_)\n",
    "\n",
    "#pos > parts of speech"
   ]
  },
  {
   "cell_type": "code",
   "execution_count": 25,
   "id": "7ae566c3",
   "metadata": {},
   "outputs": [
    {
     "name": "stdout",
     "output_type": "stream",
     "text": [
      "Tesla  |  ORG  |  Companies, agencies, institutions, etc.\n",
      "$45 billion  |  MONEY  |  Monetary values, including unit\n"
     ]
    }
   ],
   "source": [
    "doc = nlp(\"Tesla is going to buy Twitter for $45 billion.\")\n",
    "\n",
    "for ent in doc.ents:\n",
    "    print(ent, \" | \", ent.label_, \" | \", spacy.explain(ent.label_))"
   ]
  },
  {
   "cell_type": "code",
   "execution_count": 26,
   "id": "02094ce6",
   "metadata": {},
   "outputs": [
    {
     "data": {
      "text/html": [
       "<span class=\"tex2jax_ignore\"><div class=\"entities\" style=\"line-height: 2.5; direction: ltr\">\n",
       "<mark class=\"entity\" style=\"background: #7aecec; padding: 0.45em 0.6em; margin: 0 0.25em; line-height: 1; border-radius: 0.35em;\">\n",
       "    Tesla\n",
       "    <span style=\"font-size: 0.8em; font-weight: bold; line-height: 1; border-radius: 0.35em; vertical-align: middle; margin-left: 0.5rem\">ORG</span>\n",
       "</mark>\n",
       " is going to buy Twitter for \n",
       "<mark class=\"entity\" style=\"background: #e4e7d2; padding: 0.45em 0.6em; margin: 0 0.25em; line-height: 1; border-radius: 0.35em;\">\n",
       "    $45 billion\n",
       "    <span style=\"font-size: 0.8em; font-weight: bold; line-height: 1; border-radius: 0.35em; vertical-align: middle; margin-left: 0.5rem\">MONEY</span>\n",
       "</mark>\n",
       ".</div></span>"
      ],
      "text/plain": [
       "<IPython.core.display.HTML object>"
      ]
     },
     "metadata": {},
     "output_type": "display_data"
    }
   ],
   "source": [
    "from spacy import displacy\n",
    "\n",
    "displacy.render(doc, style =\"ent\")"
   ]
  },
  {
   "cell_type": "code",
   "execution_count": 28,
   "id": "b63fb86b",
   "metadata": {},
   "outputs": [
    {
     "data": {
      "text/plain": [
       "['ner']"
      ]
     },
     "execution_count": 28,
     "metadata": {},
     "output_type": "execute_result"
    }
   ],
   "source": [
    "#manually adding pipeline components to a blank pipeline\n",
    "\n",
    "source_nlp = spacy.load(\"en_core_web_sm\")\n",
    "\n",
    "nlp = spacy.blank(\"en\")\n",
    "\n",
    "nlp.add_pipe(\"ner\", source = source_nlp)\n",
    "nlp.pipe_names"
   ]
  }
 ],
 "metadata": {
  "kernelspec": {
   "display_name": "Python 3 (ipykernel)",
   "language": "python",
   "name": "python3"
  },
  "language_info": {
   "codemirror_mode": {
    "name": "ipython",
    "version": 3
   },
   "file_extension": ".py",
   "mimetype": "text/x-python",
   "name": "python",
   "nbconvert_exporter": "python",
   "pygments_lexer": "ipython3",
   "version": "3.11.4"
  }
 },
 "nbformat": 4,
 "nbformat_minor": 5
}
