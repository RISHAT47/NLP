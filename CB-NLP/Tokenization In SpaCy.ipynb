{
 "cells": [
  {
   "cell_type": "code",
   "execution_count": 2,
   "id": "11760742",
   "metadata": {},
   "outputs": [],
   "source": [
    "import spacy"
   ]
  },
  {
   "cell_type": "code",
   "execution_count": 28,
   "id": "ede109f8",
   "metadata": {},
   "outputs": [],
   "source": [
    "nlp = spacy.blank(\"en\")\n",
    "\n",
    "doc = nlp(\"As the clock struck six, the stars danced in the sky, weaving intricate patterns of light, while the wind whispered secrets to the moon, and the world held its breath in anticipation!\")"
   ]
  },
  {
   "cell_type": "code",
   "execution_count": 29,
   "id": "099d04d3",
   "metadata": {},
   "outputs": [
    {
     "name": "stdout",
     "output_type": "stream",
     "text": [
      "As\n",
      "the\n",
      "clock\n",
      "struck\n",
      "six\n",
      ",\n",
      "the\n",
      "stars\n",
      "danced\n",
      "in\n",
      "the\n",
      "sky\n",
      ",\n",
      "weaving\n",
      "intricate\n",
      "patterns\n",
      "of\n",
      "light\n",
      ",\n",
      "while\n",
      "the\n",
      "wind\n",
      "whispered\n",
      "secrets\n",
      "to\n",
      "the\n",
      "moon\n",
      ",\n",
      "and\n",
      "the\n",
      "world\n",
      "held\n",
      "its\n",
      "breath\n",
      "in\n",
      "anticipation\n",
      "!\n"
     ]
    }
   ],
   "source": [
    "for token in doc:\n",
    "    print(token)"
   ]
  },
  {
   "cell_type": "code",
   "execution_count": 5,
   "id": "4441d812",
   "metadata": {},
   "outputs": [
    {
     "data": {
      "text/plain": [
       "As"
      ]
     },
     "execution_count": 5,
     "metadata": {},
     "output_type": "execute_result"
    }
   ],
   "source": [
    "doc[0]"
   ]
  },
  {
   "cell_type": "code",
   "execution_count": 32,
   "id": "0a9acc48",
   "metadata": {},
   "outputs": [
    {
     "data": {
      "text/plain": [
       "'six'"
      ]
     },
     "execution_count": 32,
     "metadata": {},
     "output_type": "execute_result"
    }
   ],
   "source": [
    "tok = doc[4]\n",
    "tok.text"
   ]
  },
  {
   "cell_type": "code",
   "execution_count": 34,
   "id": "cf1ccc0b",
   "metadata": {},
   "outputs": [
    {
     "data": {
      "text/plain": [
       "True"
      ]
     },
     "execution_count": 34,
     "metadata": {},
     "output_type": "execute_result"
    }
   ],
   "source": [
    "tok.like_num"
   ]
  },
  {
   "cell_type": "code",
   "execution_count": 7,
   "id": "4369ef27",
   "metadata": {},
   "outputs": [
    {
     "data": {
      "text/plain": [
       "37"
      ]
     },
     "execution_count": 7,
     "metadata": {},
     "output_type": "execute_result"
    }
   ],
   "source": [
    "len(doc)"
   ]
  },
  {
   "cell_type": "code",
   "execution_count": 41,
   "id": "35817915",
   "metadata": {},
   "outputs": [],
   "source": [
    "bangla = spacy.blank(\"bn\")\n",
    "\n",
    "doc = bangla(\"বাংলাদেশে সাতটি বিভাগ রয়েছে\")"
   ]
  },
  {
   "cell_type": "code",
   "execution_count": 42,
   "id": "fe418d11",
   "metadata": {},
   "outputs": [
    {
     "name": "stdout",
     "output_type": "stream",
     "text": [
      "বাংলাদেশে\n",
      "সাতটি\n",
      "বিভাগ\n",
      "রয়েছে\n"
     ]
    }
   ],
   "source": [
    "for word in doc:\n",
    "    print(word)"
   ]
  },
  {
   "cell_type": "code",
   "execution_count": 43,
   "id": "9dc1833c",
   "metadata": {},
   "outputs": [
    {
     "data": {
      "text/plain": [
       "'সাতটি'"
      ]
     },
     "execution_count": 43,
     "metadata": {},
     "output_type": "execute_result"
    }
   ],
   "source": [
    "tok = doc[1]\n",
    "tok.text"
   ]
  },
  {
   "cell_type": "code",
   "execution_count": 44,
   "id": "3fd321d6",
   "metadata": {},
   "outputs": [
    {
     "data": {
      "text/plain": [
       "False"
      ]
     },
     "execution_count": 44,
     "metadata": {},
     "output_type": "execute_result"
    }
   ],
   "source": [
    "tok.is_digit"
   ]
  },
  {
   "cell_type": "code",
   "execution_count": 45,
   "id": "53d1d58b",
   "metadata": {},
   "outputs": [
    {
     "data": {
      "text/plain": [
       "False"
      ]
     },
     "execution_count": 45,
     "metadata": {},
     "output_type": "execute_result"
    }
   ],
   "source": [
    "tok.like_num"
   ]
  },
  {
   "cell_type": "code",
   "execution_count": null,
   "id": "333b373a",
   "metadata": {},
   "outputs": [],
   "source": []
  }
 ],
 "metadata": {
  "kernelspec": {
   "display_name": "Python 3 (ipykernel)",
   "language": "python",
   "name": "python3"
  },
  "language_info": {
   "codemirror_mode": {
    "name": "ipython",
    "version": 3
   },
   "file_extension": ".py",
   "mimetype": "text/x-python",
   "name": "python",
   "nbconvert_exporter": "python",
   "pygments_lexer": "ipython3",
   "version": "3.11.4"
  }
 },
 "nbformat": 4,
 "nbformat_minor": 5
}
