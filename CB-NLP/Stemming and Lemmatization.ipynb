{
 "cells": [
  {
   "cell_type": "code",
   "execution_count": 1,
   "id": "0ecb287a",
   "metadata": {},
   "outputs": [],
   "source": [
    "import nltk\n",
    "import spacy"
   ]
  },
  {
   "cell_type": "code",
   "execution_count": 4,
   "id": "149fade0",
   "metadata": {},
   "outputs": [],
   "source": [
    "#stemming\n",
    "from nltk.stem import PorterStemmer\n",
    "\n",
    "stemmer = PorterStemmer()"
   ]
  },
  {
   "cell_type": "code",
   "execution_count": 5,
   "id": "864851d0",
   "metadata": {},
   "outputs": [
    {
     "name": "stdout",
     "output_type": "stream",
     "text": [
      "cash  |  cash\n",
      "currency  |  currenc\n",
      "revenue  |  revenu\n",
      "exchange  |  exchang\n",
      "stock  |  stock\n",
      "bond  |  bond\n",
      "fund  |  fund\n",
      "mortgage  |  mortgag\n",
      "salary  |  salari\n"
     ]
    }
   ],
   "source": [
    "words = [\"cash\", \"currency\", \"revenue\", \"exchange\", \"stock\", \"bond\", \"fund\", \"mortgage\", \"salary\"]\n",
    "\n",
    "for word in words:\n",
    "    print(word, \" | \", stemmer.stem(word))"
   ]
  },
  {
   "cell_type": "code",
   "execution_count": 9,
   "id": "fcbd4d69",
   "metadata": {},
   "outputs": [],
   "source": [
    "#lemmitization\n",
    "\n",
    "nlp = spacy.load(\"en_core_web_sm\")\n",
    "\n",
    "doc = nlp(\"His diverse portfolio included investments in stocks, bonds, and funds, generating better revenue through salary exchanges and mortgage transactions.\")"
   ]
  },
  {
   "cell_type": "code",
   "execution_count": 11,
   "id": "54afa146",
   "metadata": {},
   "outputs": [
    {
     "name": "stdout",
     "output_type": "stream",
     "text": [
      "His  >>>  his  >>>  2661093235354845946\n",
      "diverse  >>>  diverse  >>>  5020581141713847544\n",
      "portfolio  >>>  portfolio  >>>  8616133700242567300\n",
      "included  >>>  include  >>>  14049642289933595219\n",
      "investments  >>>  investment  >>>  6769358161460113933\n",
      "in  >>>  in  >>>  3002984154512732771\n",
      "stocks  >>>  stock  >>>  15513107261501652654\n",
      ",  >>>  ,  >>>  2593208677638477497\n",
      "bonds  >>>  bond  >>>  18133887692858064249\n",
      ",  >>>  ,  >>>  2593208677638477497\n",
      "and  >>>  and  >>>  2283656566040971221\n",
      "funds  >>>  fund  >>>  5574188819171674764\n",
      ",  >>>  ,  >>>  2593208677638477497\n",
      "generating  >>>  generate  >>>  17214151181767158707\n",
      "better  >>>  well  >>>  4525988469032889948\n",
      "revenue  >>>  revenue  >>>  7201113671556944259\n",
      "through  >>>  through  >>>  18216413589307435838\n",
      "salary  >>>  salary  >>>  1644376874479534817\n",
      "exchanges  >>>  exchange  >>>  13577318737659782901\n",
      "and  >>>  and  >>>  2283656566040971221\n",
      "mortgage  >>>  mortgage  >>>  9288804585341436710\n",
      "transactions  >>>  transaction  >>>  10818540392765738574\n",
      ".  >>>  .  >>>  12646065887601541794\n"
     ]
    }
   ],
   "source": [
    "for token in doc:\n",
    "    print(token, \" >>> \", token.lemma_, \" >>> \", token.lemma)"
   ]
  },
  {
   "cell_type": "code",
   "execution_count": 12,
   "id": "4c528fff",
   "metadata": {},
   "outputs": [
    {
     "data": {
      "text/plain": [
       "['tok2vec', 'tagger', 'parser', 'attribute_ruler', 'lemmatizer', 'ner']"
      ]
     },
     "execution_count": 12,
     "metadata": {},
     "output_type": "execute_result"
    }
   ],
   "source": [
    "nlp.pipe_names"
   ]
  },
  {
   "cell_type": "code",
   "execution_count": 14,
   "id": "7522e52f",
   "metadata": {},
   "outputs": [
    {
     "name": "stdout",
     "output_type": "stream",
     "text": [
      "Bro  >>>  bro\n",
      ",  >>>  ,\n",
      "you  >>>  you\n",
      "wanna  >>>  wanna\n",
      "go  >>>  go\n",
      "?  >>>  ?\n",
      "Brah  >>>  Brah\n",
      ",  >>>  ,\n",
      "do  >>>  do\n",
      "n't  >>>  not\n",
      "say  >>>  say\n",
      "no  >>>  no\n",
      "I  >>>  I\n",
      "am  >>>  be\n",
      "exhausted  >>>  exhaust\n"
     ]
    }
   ],
   "source": [
    "\n",
    "\n",
    "doc = nlp(\"Bro, you wanna go? Brah, don't say no I am exhausted\")\n",
    "\n",
    "for token in doc:\n",
    "    print(token , \" >>> \", token.lemma_)"
   ]
  },
  {
   "cell_type": "code",
   "execution_count": 18,
   "id": "8f259f22",
   "metadata": {},
   "outputs": [
    {
     "name": "stdout",
     "output_type": "stream",
     "text": [
      "Bro  >>>  Brother\n",
      ",  >>>  ,\n",
      "you  >>>  you\n",
      "wanna  >>>  wanna\n",
      "go  >>>  go\n",
      "?  >>>  ?\n",
      "Brah  >>>  Brother\n",
      ",  >>>  ,\n",
      "do  >>>  do\n",
      "n't  >>>  not\n",
      "say  >>>  say\n",
      "no  >>>  no\n",
      "I  >>>  I\n",
      "am  >>>  be\n",
      "exhausted  >>>  exhaust\n"
     ]
    }
   ],
   "source": [
    "ar = nlp.get_pipe('attribute_ruler')\n",
    "\n",
    "ar.add([[{\"TEXT\":\"Bro\"}], [{\"TEXT\":\"Brah\"}]], {\"LEMMA\": \"Brother\"})\n",
    "\n",
    "doc = nlp(\"Bro, you wanna go? Brah, don't say no I am exhausted\")\n",
    "\n",
    "for token in doc:\n",
    "    print(token , \" >>> \", token.lemma_)"
   ]
  }
 ],
 "metadata": {
  "kernelspec": {
   "display_name": "Python 3 (ipykernel)",
   "language": "python",
   "name": "python3"
  },
  "language_info": {
   "codemirror_mode": {
    "name": "ipython",
    "version": 3
   },
   "file_extension": ".py",
   "mimetype": "text/x-python",
   "name": "python",
   "nbconvert_exporter": "python",
   "pygments_lexer": "ipython3",
   "version": "3.11.4"
  }
 },
 "nbformat": 4,
 "nbformat_minor": 5
}
